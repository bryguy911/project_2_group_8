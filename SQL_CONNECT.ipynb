{
 "cells": [
  {
   "cell_type": "code",
   "execution_count": 1,
   "id": "08cb5ff4-3d18-49ca-83ce-8c2271e27b4a",
   "metadata": {},
   "outputs": [],
   "source": [
    "# Import the dependencies\n",
    "import pandas as pd\n",
    "import numpy as np\n",
    "import datetime\n",
    "\n",
    "# Plotting\n",
    "import matplotlib.pyplot as plt\n",
    "import seaborn as sns\n",
    "\n",
    "# ORM Stuff\n",
    "from sqlalchemy import create_engine, inspect, text, func\n",
    "from sqlalchemy.orm import Session\n",
    "from sqlalchemy.ext.automap import automap_base"
   ]
  },
  {
   "cell_type": "code",
   "execution_count": 2,
   "id": "9dba2a10-c532-41a4-9374-50f44018d1e2",
   "metadata": {},
   "outputs": [
    {
     "name": "stdout",
     "output_type": "stream",
     "text": [
      "Connection to PostgreSQL DB successful\n"
     ]
    }
   ],
   "source": [
    "\n",
    "# Connection details\n",
    "USERNAME = \"postgres\"\n",
    "PASSWORD = \"Honeybutter3144!\"\n",
    "HOST = \"localhost\"\n",
    "PORT = 5432\n",
    "DATABASE = \"Project2_Group8\"\n",
    "\n",
    "# Connection string\n",
    "connection_str = f\"postgresql://{USERNAME}:{PASSWORD}@{HOST}:{PORT}/{DATABASE}\"\n",
    "\n",
    "# Create engine\n",
    "engine = create_engine(connection_str)\n",
    "\n",
    "# Test the connection\n",
    "try:\n",
    "    with engine.connect() as connection:\n",
    "        print(\"Connection to PostgreSQL DB successful\")\n",
    "except Exception as e:\n",
    "    print(\"Connection failed:\", e)\n"
   ]
  },
  {
   "cell_type": "code",
   "execution_count": 3,
   "id": "ee26f028-bab6-4729-9fa0-5a62c7c180de",
   "metadata": {},
   "outputs": [
    {
     "name": "stdout",
     "output_type": "stream",
     "text": [
      "contacts\n",
      "--------\n",
      "contact_id INTEGER\n",
      "first_name VARCHAR(20)\n",
      "last_name VARCHAR(20)\n",
      "email VARCHAR(50)\n",
      "campaign\n",
      "--------\n",
      "cf_id INTEGER\n",
      "contact_id INTEGER\n",
      "company_name VARCHAR(50)\n",
      "description VARCHAR(100)\n",
      "goal NUMERIC\n",
      "pledged NUMERIC\n",
      "outcome VARCHAR(20)\n",
      "backers_count VARCHAR(20)\n",
      "country CHAR(2)\n",
      "currency CHAR(3)\n",
      "launch_date DATE\n",
      "end_date DATE\n",
      "category_id CHAR(4)\n",
      "subcategory_id VARCHAR(6)\n",
      "category\n",
      "--------\n",
      "category_id CHAR(4)\n",
      "category VARCHAR(15)\n",
      "subcategory\n",
      "--------\n",
      "subcategory_id VARCHAR(6)\n",
      "subcategory VARCHAR(20)\n"
     ]
    }
   ],
   "source": [
    " # Create the inspector and connect it to the engine\n",
    "inspector = inspect(engine)\n",
    "\n",
    "# Collect the names of tables within the database\n",
    "tables = inspector.get_table_names()\n",
    "\n",
    "# Using the inspector to print the column names within the 'dow' table and its types\n",
    "for table in tables:\n",
    "    print(table)\n",
    "    print(\"--------\")\n",
    "    columns = inspector.get_columns(table)\n",
    "    for column in columns:\n",
    "        print(column[\"name\"], column[\"type\"])\n"
   ]
  },
  {
   "cell_type": "code",
   "execution_count": 4,
   "id": "37c718ce-cd1f-469c-9c3d-952a22ce37dd",
   "metadata": {},
   "outputs": [
    {
     "data": {
      "text/plain": [
       "9"
      ]
     },
     "execution_count": 4,
     "metadata": {},
     "output_type": "execute_result"
    }
   ],
   "source": [
    "#Resources/category.csv\n",
    "df = pd.read_csv(\"Resources/category.csv\")\n",
    "df.head()\n",
    "\n",
    "# Write to SQL \n",
    "df.to_sql(name=\"category\", con=engine, index=False, if_exists=\"append\", method=\"multi\")"
   ]
  },
  {
   "cell_type": "code",
   "execution_count": 5,
   "id": "02435fb7-7859-4bf5-80ea-ce25eb5ebc69",
   "metadata": {},
   "outputs": [
    {
     "data": {
      "text/plain": [
       "24"
      ]
     },
     "execution_count": 5,
     "metadata": {},
     "output_type": "execute_result"
    }
   ],
   "source": [
    "#Resources/subcategory.csv\n",
    "df = pd.read_csv(\"Resources/subcategory.csv\")\n",
    "df.head()\n",
    "\n",
    "# Write to SQL (NOTE I AM USING con=engine) THIS IS WHAT WORKS APPARENTLY WHEN WRITING OUT DATA\n",
    "df.to_sql(name=\"subcategory\", con=engine, index=False, if_exists=\"append\", method=\"multi\")"
   ]
  },
  {
   "cell_type": "code",
   "execution_count": 6,
   "id": "9c91521e-db55-4d20-b983-805247e6642d",
   "metadata": {},
   "outputs": [
    {
     "data": {
      "text/plain": [
       "1000"
      ]
     },
     "execution_count": 6,
     "metadata": {},
     "output_type": "execute_result"
    }
   ],
   "source": [
    "#Resources/contacts.csv\n",
    "df = pd.read_csv(\"Resources/contacts.csv\")\n",
    "df.head()\n",
    "\n",
    "# Write to SQL (NOTE I AM USING con=engine) THIS IS WHAT WORKS APPARENTLY WHEN WRITING OUT DATA\n",
    "df.to_sql(name=\"contacts\", con=engine, index=False, if_exists=\"append\", method=\"multi\")"
   ]
  },
  {
   "cell_type": "code",
   "execution_count": 7,
   "id": "c24dc479-6fc3-4ee5-a0f3-7dedb7bb63f0",
   "metadata": {},
   "outputs": [
    {
     "data": {
      "text/plain": [
       "1000"
      ]
     },
     "execution_count": 7,
     "metadata": {},
     "output_type": "execute_result"
    }
   ],
   "source": [
    "#Resources/campaign.csv\n",
    "df = pd.read_csv(\"Resources/campaign.csv\")\n",
    "df.head()\n",
    "\n",
    "# Write to SQL (NOTE I AM USING con=engine) THIS IS WHAT WORKS APPARENTLY WHEN WRITING OUT DATA\n",
    "df.to_sql(name=\"campaign\", con=engine, index=False, if_exists=\"append\", method=\"multi\")"
   ]
  },
  {
   "cell_type": "code",
   "execution_count": null,
   "id": "63dcb129-519b-44d1-8444-4138b54b2f9f",
   "metadata": {},
   "outputs": [],
   "source": [
    " conn = engine.connect()"
   ]
  },
  {
   "cell_type": "code",
   "execution_count": null,
   "id": "c2ecffca-0740-4f3b-9868-d5a0a3683dfa",
   "metadata": {},
   "outputs": [],
   "source": []
  },
  {
   "cell_type": "code",
   "execution_count": null,
   "id": "6a7a6a96-1730-4948-af63-76b88e0ef880",
   "metadata": {},
   "outputs": [],
   "source": []
  }
 ],
 "metadata": {
  "kernelspec": {
   "display_name": "Python 3 (ipykernel)",
   "language": "python",
   "name": "python3"
  },
  "language_info": {
   "codemirror_mode": {
    "name": "ipython",
    "version": 3
   },
   "file_extension": ".py",
   "mimetype": "text/x-python",
   "name": "python",
   "nbconvert_exporter": "python",
   "pygments_lexer": "ipython3",
   "version": "3.10.15"
  }
 },
 "nbformat": 4,
 "nbformat_minor": 5
}
